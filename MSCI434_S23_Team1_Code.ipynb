{
  "nbformat": 4,
  "nbformat_minor": 0,
  "metadata": {
    "colab": {
      "provenance": [],
      "include_colab_link": true
    },
    "kernelspec": {
      "name": "python3",
      "display_name": "Python 3"
    },
    "language_info": {
      "name": "python"
    }
  },
  "cells": [
    {
      "cell_type": "markdown",
      "metadata": {
        "id": "view-in-github",
        "colab_type": "text"
      },
      "source": [
        "<a href=\"https://colab.research.google.com/github/twarep/434-project/blob/initial-code/MSCI434_S23_Team1_Code.ipynb\" target=\"_parent\"><img src=\"https://colab.research.google.com/assets/colab-badge.svg\" alt=\"Open In Colab\"/></a>"
      ]
    },
    {
      "cell_type": "markdown",
      "source": [
        "Install gurobipy:"
      ],
      "metadata": {
        "id": "owFQhNsbZ9LP"
      }
    },
    {
      "cell_type": "code",
      "source": [
        "!pip install gurobipy\n",
        "import gurobipy as gp"
      ],
      "metadata": {
        "colab": {
          "base_uri": "https://localhost:8080/"
        },
        "id": "_elQLoz0bNL-",
        "outputId": "d07c5d18-7af1-4ef4-bfe2-35241113063a"
      },
      "execution_count": null,
      "outputs": [
        {
          "output_type": "stream",
          "name": "stdout",
          "text": [
            "Looking in indexes: https://pypi.org/simple, https://us-python.pkg.dev/colab-wheels/public/simple/\n",
            "Collecting gurobipy\n",
            "  Downloading gurobipy-10.0.2-cp310-cp310-manylinux2014_x86_64.whl (12.7 MB)\n",
            "\u001b[2K     \u001b[90m━━━━━━━━━━━━━━━━━━━━━━━━━━━━━━━━━━━━━━━━\u001b[0m \u001b[32m12.7/12.7 MB\u001b[0m \u001b[31m59.3 MB/s\u001b[0m eta \u001b[36m0:00:00\u001b[0m\n",
            "\u001b[?25hInstalling collected packages: gurobipy\n",
            "Successfully installed gurobipy-10.0.2\n"
          ]
        }
      ]
    },
    {
      "cell_type": "markdown",
      "source": [
        "Set up license:"
      ],
      "metadata": {
        "id": "A8JC9lQVbP1A"
      }
    },
    {
      "cell_type": "code",
      "source": [
        "# Create environment with WLS license\n",
        "e = gp.Env(empty=True)\n",
        "e.setParam('WLSACCESSID', '9b5302bc-21dd-4d9e-9937-fbb924249bf0')\n",
        "e.setParam('WLSSECRET', '839ce54c-7863-407c-b5a5-93463d17dd6a')\n",
        "e.setParam('LICENSEID', 883091)\n",
        "e.start()"
      ],
      "metadata": {
        "id": "R3meTiZiaA4M",
        "colab": {
          "base_uri": "https://localhost:8080/"
        },
        "outputId": "bb50b860-b939-4a8d-c6d1-65cede1831df"
      },
      "execution_count": null,
      "outputs": [
        {
          "output_type": "stream",
          "name": "stdout",
          "text": [
            "Set parameter WLSAccessID\n",
            "Set parameter WLSSecret\n",
            "Set parameter LicenseID to value 883091\n",
            "Academic license - for non-commercial use only - registered to ptwareck@uwaterloo.ca\n"
          ]
        },
        {
          "output_type": "execute_result",
          "data": {
            "text/plain": [
              "<gurobipy.Env, Parameter changes: WLSAccessID=(user-defined), WLSSecret=(user-defined), LicenseID=883091>"
            ]
          },
          "metadata": {},
          "execution_count": 3
        }
      ]
    },
    {
      "cell_type": "markdown",
      "source": [
        "Initialize model:"
      ],
      "metadata": {
        "id": "L6nrtOoFa5Uo"
      }
    },
    {
      "cell_type": "code",
      "source": [
        "# Create the model within the Gurobi environment\n",
        "model = gp.Model('HospitalSupplySystem', env=e)"
      ],
      "metadata": {
        "id": "7jFdXU-Ya6hf"
      },
      "execution_count": null,
      "outputs": []
    }
  ]
}